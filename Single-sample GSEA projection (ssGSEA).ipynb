{
 "cells": [
  {
   "cell_type": "markdown",
   "metadata": {},
   "source": [
    "# Single-sample GSEA projection (ssGSEA)"
   ]
  },
  {
   "cell_type": "markdown",
   "metadata": {},
   "source": [
    "## Background"
   ]
  },
  {
   "cell_type": "markdown",
   "metadata": {},
   "source": [
    "Traditional gene set enrichment analysis assesses the differential coordinate up- or down-regulation of a biological process or pathway between groups of samples belonging to two phenotypes. The ability to assess that enrichment in individual samples, especially independently of pre-assigned phenotype labels, provides the opportunity to analyze transcription data at a higher level, by using gene sets/pathways instead of genes, resulting in a much more biologically interpretable set of features. Single-sample Gene Set Enrichment Analysis (ssGSEA) Projection accomplishes this."
   ]
  },
  {
   "cell_type": "markdown",
   "metadata": {},
   "source": [
    "**ssGSEA projects a single sample’s gene expression profile from the space of single genes onto the space of gene sets**. It does this via the ssGSEA enrichment score, which represents the degree to which the genes in a particular gene set are coordinately up- or down- regulated within a sample.  \n",
    "\n",
    "Any supervised or unsupervised machine learning technique or other statistical analysis can then be applied to the resulting projected dataset. The benefit is that the **ssGSEA projection transforms the data to a higher-level (pathways instead of genes) space representing a more biologically interpretable set of features on which analytic methods can be applied.**\n",
    "\n",
    "Another benefit of ssGSEA projection is **dimensionality reduction**. Typically the number of gene sets employed in the enrichment analysis is substantially smaller than the number of genes targeted by a gene expression assay, and they are more robust and less noisy, resulting in significant benefits for downstream analysis."
   ]
  },
  {
   "cell_type": "markdown",
   "metadata": {},
   "source": [
    "## Before you begin"
   ]
  },
  {
   "cell_type": "markdown",
   "metadata": {
    "collapsed": true
   },
   "source": [
    "You must log in to a GenePattern server. In this notebook we will use **```GenePattern Cloud``` **"
   ]
  },
  {
   "cell_type": "markdown",
   "metadata": {},
   "source": [
    "<div class=\"alert alert-info\">\n",
    "<p class=\"lead\"> Instructions <i class=\"fa fa-info-circle\"></i></p>\n",
    "Sign in to GenePattern by entering your username and password into the form below.\n",
    "</div>"
   ]
  },
  {
   "cell_type": "code",
   "execution_count": null,
   "metadata": {
    "genepattern": {
     "name": "Login",
     "server": "https://cloud.genepattern.org/gp",
     "type": "auth"
    },
    "scrolled": true
   },
   "outputs": [],
   "source": [
    "# Requires GenePattern Notebook: pip install genepattern-notebook\n",
    "import gp\n",
    "import genepattern\n",
    "\n",
    "# Username and password removed for security reasons.\n",
    "genepattern.display(genepattern.session.register(\"https://cloud.genepattern.org/gp\", \"\", \"\"))"
   ]
  },
  {
   "cell_type": "markdown",
   "metadata": {},
   "source": [
    "## Project gene expression dataset into the space of oncogenic gene sets"
   ]
  },
  {
   "cell_type": "markdown",
   "metadata": {},
   "source": [
    "We will use the GenePattern ssGSEA analysis to transform the set of TCGA breast cancer samples into a dataset where each row corresponds to a pathway from the [MSigDB oncogenic gene sets collection](http://software.broadinstitute.org/gsea/msigdb/genesets.jsp?collection=C6), and each column is a sample. Each value in the new dataset will therefore represent the up- or downregulation of a pathway (row) within a sample (column)."
   ]
  },
  {
   "cell_type": "markdown",
   "metadata": {
    "collapsed": true
   },
   "source": [
    "<div class=\"alert alert-info\">\n",
    "<p class=\"lead\"> Instructions <i class=\"fa fa-info-circle\"></i></p>\n",
    "\n",
    "\n",
    "1. Insert a <b>GenePattern Analysis Cell</b> to run the ssGSEA module.\n",
    "\n",
    "    1. Make sure this cell is selected by clicking once on it.\n",
    "    1. In the menu above, select `Insert`, then `Insert Cell Below`.\n",
    "    1. Turn that cell int a *GenePattern Analysis cell* (click on `Cell`, then select `Cell Type`, and select `GenePattern`).\n",
    "    1. In the search menu that pops up type `ssgsea` and select `ssGSEA`.\n",
    "\n",
    "1. For the **input gct file*** parameter, Provide a file in the [GCT format](https://genepattern.org/file-formats-guide#GCT')  \n",
    "     1. For example: <a class=\"nbtools-markdown-file\" href=\"https://datasets.genepattern.org/data/ccmi_tutorial/2017-12-15/BRCA_HUGO_symbols.preprocessed.gct\" target=\"_blank\">BRCA_HUGO_symbols.preprocessed.gct</a>\n",
    "1. For the <strong><em>gene sets database files</em></strong> parameter, choose from the dropdown menu.\n",
    "1. Click <strong><em>Run</em></strong> on the analysis below.</li>\n",
    "</div>"
   ]
  },
  {
   "cell_type": "markdown",
   "metadata": {},
   "source": [
    "<div class=\"alert alert-danger\">\n",
    "<p class=\"lead\"> Error <i class=\"fa fa-exclamation-circle\"></i></p>\n",
    "CONTINUE HERE!\n",
    "</div>"
   ]
  },
  {
   "cell_type": "markdown",
   "metadata": {},
   "source": [
    "## Visualize projected pathways as a heat map"
   ]
  },
  {
   "cell_type": "markdown",
   "metadata": {},
   "source": [
    "We will use the GenePattern heat map viewer to visualize the resulting projection of genes into pathways."
   ]
  },
  {
   "cell_type": "markdown",
   "metadata": {},
   "source": [
    "<div class=\"alert alert-info\">\n",
    "<h3>Instructions</h3>\n",
    "1. Insert a *GenePattern Analysis Cell* to run the HeatMapViewer module.\n",
    "<ol>\n",
    "<li>Make sure this cell is selected by clicking once on it.</li>\n",
    "<li>In the menu above, select `Insert`, then `Insert Cell Below`.</li>\n",
    "<li>Turn that cell int a *GenePattern Analysis cell* (click on `Cell`, then select `Cell Type`, and select `GenePattern`).</li>\n",
    "<li>In the search menu that pops up type `ssgsea` and select `HeatMapViewer`.</li><br>\n",
    "</ol>\n",
    "</li>\n",
    "1. In the **dataset** parameter below, click on the dropdown and select `BRCA_HUGO_symbols.preprocessed.PROJ.gct`\n",
    "1. Click **Run**."
   ]
  },
  {
   "cell_type": "code",
   "execution_count": null,
   "metadata": {
    "genepattern": {
     "description": "A configurable heat map viewer that provides users with several options for manipulating and visualizing array-based data",
     "name": "HeatMapViewer",
     "param_values": {
      "dataset": null,
      "job.cpuCount": null,
      "job.memory": null,
      "job.queue": null,
      "job.walltime": null
     },
     "show_code": true,
     "type": "task"
    },
    "scrolled": true
   },
   "outputs": [],
   "source": [
    "heatmapviewer_task = gp.GPTask(genepattern.session.get(0), 'urn:lsid:broad.mit.edu:cancer.software.genepattern.module.visualizer:00010')\n",
    "heatmapviewer_job_spec = heatmapviewer_task.make_job_spec()\n",
    "heatmapviewer_job_spec.set_parameter(\"dataset\", \"\")\n",
    "genepattern.display(heatmapviewer_task)"
   ]
  },
  {
   "cell_type": "markdown",
   "metadata": {},
   "source": [
    "## Project data onto hallmark pathways"
   ]
  },
  {
   "cell_type": "markdown",
   "metadata": {},
   "source": [
    "[MSigDB Hallmark gene sets](http://software.broadinstitute.org/gsea/msigdb/genesets.jsp?collection=H) summarize and represent specific well-defined biological states or processes and display coherent expression. In this exercise you will project the expression dataset onto the hallmark gene set collection."
   ]
  },
  {
   "cell_type": "markdown",
   "metadata": {},
   "source": [
    "<div class=\"alert alert-info\">\n",
    "<h3>Instructions</h3>\n",
    "\n",
    "1. Create a new ssGSEA cell\n",
    "2. Populate it with the result dataset\n",
    "3. Select the **h.all.v6.2.symbols.gmt [Hallmarks]** gene sets database file\n",
    "4. Run the cell\n",
    "5. Create a new HeatMapVisualizer cell and visualize the analysis results in it\n",
    "\n",
    "**Hint**: if you need to re-run an analysis with some parameters changed, you can click on the gear icon in the job result panel (the panel with the title **Job ######** and select **Duplicate analysis**.\n"
   ]
  }
 ],
 "metadata": {
  "genepattern": {
   "repository_url": "http://notebook.genepattern.org/services/sharing/notebooks/382/"
  },
  "kernelspec": {
   "display_name": "Python 3.7",
   "language": "python",
   "name": "python3.7"
  },
  "language_info": {
   "codemirror_mode": {
    "name": "ipython",
    "version": 3
   },
   "file_extension": ".py",
   "mimetype": "text/x-python",
   "name": "python",
   "nbconvert_exporter": "python",
   "pygments_lexer": "ipython3",
   "version": "3.7.6"
  },
  "toc": {
   "base_numbering": 1,
   "nav_menu": {},
   "number_sections": false,
   "sideBar": true,
   "skip_h1_title": false,
   "title_cell": "Table of Contents",
   "title_sidebar": "Contents",
   "toc_cell": false,
   "toc_position": {},
   "toc_section_display": true,
   "toc_window_display": false
  }
 },
 "nbformat": 4,
 "nbformat_minor": 2
}
